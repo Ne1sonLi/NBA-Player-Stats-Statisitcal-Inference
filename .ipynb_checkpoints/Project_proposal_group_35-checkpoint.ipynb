{
 "cells": [
  {
   "cell_type": "markdown",
   "id": "be9a4ef7-1b84-437c-890d-da9ee0da62ba",
   "metadata": {},
   "source": [
    "# Project Proposal - Group 35"
   ]
  },
  {
   "cell_type": "markdown",
   "id": "6e05871b-e1af-467f-bdbb-9e95fbcd6e18",
   "metadata": {},
   "source": [
    "### Introduction"
   ]
  },
  {
   "cell_type": "markdown",
   "id": "a76468e4-34cf-43f5-b33b-4431ee6114d6",
   "metadata": {},
   "source": [
    "The National Basketball Association (NBA) is a major basketball league with 30 teams from the United States and Canada. Every year, each team plays 82 games in the regular season followed by a best of 7 series in each round of the playoffs with the hopes of claiming the coveted championship trophy.\n",
    "\n",
    "For our project we will analyze NBA player stats for the 2017 - 18 regular season. Our dataset contains a variety of information including the player’s position, games played, name, height, etc.\n",
    "\n",
    "In this project, we aim to answer the following question:\n",
    "> What is the mean difference in points per game for guards (PG, SG), forwards (SF, PF) and centers (C)."
   ]
  },
  {
   "cell_type": "markdown",
   "id": "57efcc09-9e8d-4e8b-9728-6c9b24f1974a",
   "metadata": {},
   "source": [
    "### Preliminary Data Analysis"
   ]
  },
  {
   "cell_type": "code",
   "execution_count": 4,
   "id": "147e1617-ac38-405f-9958-f79adf5b745f",
   "metadata": {},
   "outputs": [],
   "source": [
    "library(tidyverse)\n",
    "library(digest)\n",
    "library(repr)\n",
    "library(dplyr)\n",
    "library(readr)"
   ]
  },
  {
   "cell_type": "code",
   "execution_count": 27,
   "id": "47faa2d2-6923-46ca-89d1-04730383b4f0",
   "metadata": {},
   "outputs": [
    {
     "name": "stderr",
     "output_type": "stream",
     "text": [
      "\u001b[1mRows: \u001b[22m\u001b[34m490\u001b[39m \u001b[1mColumns: \u001b[22m\u001b[34m34\u001b[39m\n",
      "\u001b[36m──\u001b[39m \u001b[1mColumn specification\u001b[22m \u001b[36m────────────────────────────────────────────────────────\u001b[39m\n",
      "\u001b[1mDelimiter:\u001b[22m \",\"\n",
      "\u001b[31mchr\u001b[39m  (7): Name, Birth_Place, Birthdate, Collage, Experience, Pos, Team\n",
      "\u001b[32mdbl\u001b[39m (27): Games Played, MIN, PTS, FGM, FGA, FG%, 3PM, 3PA, 3P%, FTM, FTA, FT...\n",
      "\n",
      "\u001b[36mℹ\u001b[39m Use `spec()` to retrieve the full column specification for this data.\n",
      "\u001b[36mℹ\u001b[39m Specify the column types or set `show_col_types = FALSE` to quiet this message.\n"
     ]
    },
    {
     "data": {
      "text/html": [
       "<table class=\"dataframe\">\n",
       "<caption>A tibble: 6 × 34</caption>\n",
       "<thead>\n",
       "\t<tr><th scope=col>Name</th><th scope=col>Games Played</th><th scope=col>MIN</th><th scope=col>PTS</th><th scope=col>FGM</th><th scope=col>FGA</th><th scope=col>FG%</th><th scope=col>3PM</th><th scope=col>3PA</th><th scope=col>3P%</th><th scope=col>⋯</th><th scope=col>Age</th><th scope=col>Birth_Place</th><th scope=col>Birthdate</th><th scope=col>Collage</th><th scope=col>Experience</th><th scope=col>Height</th><th scope=col>Pos</th><th scope=col>Team</th><th scope=col>Weight</th><th scope=col>BMI</th></tr>\n",
       "\t<tr><th scope=col>&lt;chr&gt;</th><th scope=col>&lt;dbl&gt;</th><th scope=col>&lt;dbl&gt;</th><th scope=col>&lt;dbl&gt;</th><th scope=col>&lt;dbl&gt;</th><th scope=col>&lt;dbl&gt;</th><th scope=col>&lt;dbl&gt;</th><th scope=col>&lt;dbl&gt;</th><th scope=col>&lt;dbl&gt;</th><th scope=col>&lt;dbl&gt;</th><th scope=col>⋯</th><th scope=col>&lt;dbl&gt;</th><th scope=col>&lt;chr&gt;</th><th scope=col>&lt;chr&gt;</th><th scope=col>&lt;chr&gt;</th><th scope=col>&lt;chr&gt;</th><th scope=col>&lt;dbl&gt;</th><th scope=col>&lt;chr&gt;</th><th scope=col>&lt;chr&gt;</th><th scope=col>&lt;dbl&gt;</th><th scope=col>&lt;dbl&gt;</th></tr>\n",
       "</thead>\n",
       "<tbody>\n",
       "\t<tr><td>AJ Price     </td><td>26</td><td> 324</td><td> 133</td><td> 51</td><td> 137</td><td>37.2</td><td> 15</td><td> 57</td><td>26.3</td><td>⋯</td><td>29</td><td>us</td><td>October 7, 1986   </td><td>University of Connecticut</td><td>5 </td><td>185.0</td><td>PG</td><td>PHO</td><td> 81.45</td><td>23.79839</td></tr>\n",
       "\t<tr><td>Aaron Brooks </td><td>82</td><td>1885</td><td> 954</td><td>344</td><td> 817</td><td>42.1</td><td>121</td><td>313</td><td>38.7</td><td>⋯</td><td>30</td><td>us</td><td>January 14, 1985  </td><td>University of Oregon     </td><td>6 </td><td>180.0</td><td>PG</td><td>CHI</td><td> 72.45</td><td>22.36111</td></tr>\n",
       "\t<tr><td>Aaron Gordon </td><td>47</td><td> 797</td><td> 243</td><td> 93</td><td> 208</td><td>44.7</td><td> 13</td><td> 48</td><td>27.1</td><td>⋯</td><td>20</td><td>us</td><td>September 16, 1995</td><td>University of Arizona    </td><td>R </td><td>202.5</td><td>PF</td><td>ORL</td><td> 99.00</td><td>24.14266</td></tr>\n",
       "\t<tr><td>Adreian Payne</td><td>32</td><td> 740</td><td> 213</td><td> 91</td><td> 220</td><td>41.4</td><td>  1</td><td>  9</td><td>11.1</td><td>⋯</td><td>24</td><td>us</td><td>February 19, 1991 </td><td>Michigan State University</td><td>R </td><td>205.0</td><td>PF</td><td>ATL</td><td>106.65</td><td>25.37775</td></tr>\n",
       "\t<tr><td>Al Horford   </td><td>76</td><td>2318</td><td>1156</td><td>519</td><td> 965</td><td>53.8</td><td> 11</td><td> 36</td><td>30.6</td><td>⋯</td><td>29</td><td>do</td><td>June 3, 1986      </td><td>University of Florida    </td><td>7 </td><td>205.0</td><td>C </td><td>ATL</td><td>110.25</td><td>26.23438</td></tr>\n",
       "\t<tr><td>Al Jefferson </td><td>65</td><td>1992</td><td>1082</td><td>486</td><td>1010</td><td>48.1</td><td>  2</td><td>  5</td><td>40.0</td><td>⋯</td><td>30</td><td>us</td><td>January 4, 1985   </td><td>NA                       </td><td>10</td><td>205.0</td><td>C </td><td>CHA</td><td>130.05</td><td>30.94587</td></tr>\n",
       "</tbody>\n",
       "</table>\n"
      ],
      "text/latex": [
       "A tibble: 6 × 34\n",
       "\\begin{tabular}{lllllllllllllllllllll}\n",
       " Name & Games Played & MIN & PTS & FGM & FGA & FG\\% & 3PM & 3PA & 3P\\% & ⋯ & Age & Birth\\_Place & Birthdate & Collage & Experience & Height & Pos & Team & Weight & BMI\\\\\n",
       " <chr> & <dbl> & <dbl> & <dbl> & <dbl> & <dbl> & <dbl> & <dbl> & <dbl> & <dbl> & ⋯ & <dbl> & <chr> & <chr> & <chr> & <chr> & <dbl> & <chr> & <chr> & <dbl> & <dbl>\\\\\n",
       "\\hline\n",
       "\t AJ Price      & 26 &  324 &  133 &  51 &  137 & 37.2 &  15 &  57 & 26.3 & ⋯ & 29 & us & October 7, 1986    & University of Connecticut & 5  & 185.0 & PG & PHO &  81.45 & 23.79839\\\\\n",
       "\t Aaron Brooks  & 82 & 1885 &  954 & 344 &  817 & 42.1 & 121 & 313 & 38.7 & ⋯ & 30 & us & January 14, 1985   & University of Oregon      & 6  & 180.0 & PG & CHI &  72.45 & 22.36111\\\\\n",
       "\t Aaron Gordon  & 47 &  797 &  243 &  93 &  208 & 44.7 &  13 &  48 & 27.1 & ⋯ & 20 & us & September 16, 1995 & University of Arizona     & R  & 202.5 & PF & ORL &  99.00 & 24.14266\\\\\n",
       "\t Adreian Payne & 32 &  740 &  213 &  91 &  220 & 41.4 &   1 &   9 & 11.1 & ⋯ & 24 & us & February 19, 1991  & Michigan State University & R  & 205.0 & PF & ATL & 106.65 & 25.37775\\\\\n",
       "\t Al Horford    & 76 & 2318 & 1156 & 519 &  965 & 53.8 &  11 &  36 & 30.6 & ⋯ & 29 & do & June 3, 1986       & University of Florida     & 7  & 205.0 & C  & ATL & 110.25 & 26.23438\\\\\n",
       "\t Al Jefferson  & 65 & 1992 & 1082 & 486 & 1010 & 48.1 &   2 &   5 & 40.0 & ⋯ & 30 & us & January 4, 1985    & NA                        & 10 & 205.0 & C  & CHA & 130.05 & 30.94587\\\\\n",
       "\\end{tabular}\n"
      ],
      "text/markdown": [
       "\n",
       "A tibble: 6 × 34\n",
       "\n",
       "| Name &lt;chr&gt; | Games Played &lt;dbl&gt; | MIN &lt;dbl&gt; | PTS &lt;dbl&gt; | FGM &lt;dbl&gt; | FGA &lt;dbl&gt; | FG% &lt;dbl&gt; | 3PM &lt;dbl&gt; | 3PA &lt;dbl&gt; | 3P% &lt;dbl&gt; | ⋯ ⋯ | Age &lt;dbl&gt; | Birth_Place &lt;chr&gt; | Birthdate &lt;chr&gt; | Collage &lt;chr&gt; | Experience &lt;chr&gt; | Height &lt;dbl&gt; | Pos &lt;chr&gt; | Team &lt;chr&gt; | Weight &lt;dbl&gt; | BMI &lt;dbl&gt; |\n",
       "|---|---|---|---|---|---|---|---|---|---|---|---|---|---|---|---|---|---|---|---|---|\n",
       "| AJ Price      | 26 |  324 |  133 |  51 |  137 | 37.2 |  15 |  57 | 26.3 | ⋯ | 29 | us | October 7, 1986    | University of Connecticut | 5  | 185.0 | PG | PHO |  81.45 | 23.79839 |\n",
       "| Aaron Brooks  | 82 | 1885 |  954 | 344 |  817 | 42.1 | 121 | 313 | 38.7 | ⋯ | 30 | us | January 14, 1985   | University of Oregon      | 6  | 180.0 | PG | CHI |  72.45 | 22.36111 |\n",
       "| Aaron Gordon  | 47 |  797 |  243 |  93 |  208 | 44.7 |  13 |  48 | 27.1 | ⋯ | 20 | us | September 16, 1995 | University of Arizona     | R  | 202.5 | PF | ORL |  99.00 | 24.14266 |\n",
       "| Adreian Payne | 32 |  740 |  213 |  91 |  220 | 41.4 |   1 |   9 | 11.1 | ⋯ | 24 | us | February 19, 1991  | Michigan State University | R  | 205.0 | PF | ATL | 106.65 | 25.37775 |\n",
       "| Al Horford    | 76 | 2318 | 1156 | 519 |  965 | 53.8 |  11 |  36 | 30.6 | ⋯ | 29 | do | June 3, 1986       | University of Florida     | 7  | 205.0 | C  | ATL | 110.25 | 26.23438 |\n",
       "| Al Jefferson  | 65 | 1992 | 1082 | 486 | 1010 | 48.1 |   2 |   5 | 40.0 | ⋯ | 30 | us | January 4, 1985    | NA                        | 10 | 205.0 | C  | CHA | 130.05 | 30.94587 |\n",
       "\n"
      ],
      "text/plain": [
       "  Name          Games Played MIN  PTS  FGM FGA  FG%  3PM 3PA 3P%  ⋯ Age\n",
       "1 AJ Price      26            324  133  51  137 37.2  15  57 26.3 ⋯ 29 \n",
       "2 Aaron Brooks  82           1885  954 344  817 42.1 121 313 38.7 ⋯ 30 \n",
       "3 Aaron Gordon  47            797  243  93  208 44.7  13  48 27.1 ⋯ 20 \n",
       "4 Adreian Payne 32            740  213  91  220 41.4   1   9 11.1 ⋯ 24 \n",
       "5 Al Horford    76           2318 1156 519  965 53.8  11  36 30.6 ⋯ 29 \n",
       "6 Al Jefferson  65           1992 1082 486 1010 48.1   2   5 40.0 ⋯ 30 \n",
       "  Birth_Place Birthdate          Collage                   Experience Height\n",
       "1 us          October 7, 1986    University of Connecticut 5          185.0 \n",
       "2 us          January 14, 1985   University of Oregon      6          180.0 \n",
       "3 us          September 16, 1995 University of Arizona     R          202.5 \n",
       "4 us          February 19, 1991  Michigan State University R          205.0 \n",
       "5 do          June 3, 1986       University of Florida     7          205.0 \n",
       "6 us          January 4, 1985    NA                        10         205.0 \n",
       "  Pos Team Weight BMI     \n",
       "1 PG  PHO   81.45 23.79839\n",
       "2 PG  CHI   72.45 22.36111\n",
       "3 PF  ORL   99.00 24.14266\n",
       "4 PF  ATL  106.65 25.37775\n",
       "5 C   ATL  110.25 26.23438\n",
       "6 C   CHA  130.05 30.94587"
      ]
     },
     "metadata": {},
     "output_type": "display_data"
    }
   ],
   "source": [
    "nba_player_stats <- read_csv(\"players_stats.csv\")\n",
    "head(nba_player_stats)"
   ]
  },
  {
   "cell_type": "code",
   "execution_count": 29,
   "id": "50bbea2a-0532-466a-99bd-821dbfc44a9e",
   "metadata": {},
   "outputs": [
    {
     "data": {
      "text/html": [
       "<table class=\"dataframe\">\n",
       "<caption>A tibble: 6 × 4</caption>\n",
       "<thead>\n",
       "\t<tr><th scope=col>games_played</th><th scope=col>total_points</th><th scope=col>position</th><th scope=col>points_per_game</th></tr>\n",
       "\t<tr><th scope=col>&lt;dbl&gt;</th><th scope=col>&lt;dbl&gt;</th><th scope=col>&lt;chr&gt;</th><th scope=col>&lt;dbl&gt;</th></tr>\n",
       "</thead>\n",
       "<tbody>\n",
       "\t<tr><td>26</td><td> 133</td><td>PG</td><td> 5.115385</td></tr>\n",
       "\t<tr><td>82</td><td> 954</td><td>PG</td><td>11.634146</td></tr>\n",
       "\t<tr><td>47</td><td> 243</td><td>PF</td><td> 5.170213</td></tr>\n",
       "\t<tr><td>32</td><td> 213</td><td>PF</td><td> 6.656250</td></tr>\n",
       "\t<tr><td>76</td><td>1156</td><td>C </td><td>15.210526</td></tr>\n",
       "\t<tr><td>65</td><td>1082</td><td>C </td><td>16.646154</td></tr>\n",
       "</tbody>\n",
       "</table>\n"
      ],
      "text/latex": [
       "A tibble: 6 × 4\n",
       "\\begin{tabular}{llll}\n",
       " games\\_played & total\\_points & position & points\\_per\\_game\\\\\n",
       " <dbl> & <dbl> & <chr> & <dbl>\\\\\n",
       "\\hline\n",
       "\t 26 &  133 & PG &  5.115385\\\\\n",
       "\t 82 &  954 & PG & 11.634146\\\\\n",
       "\t 47 &  243 & PF &  5.170213\\\\\n",
       "\t 32 &  213 & PF &  6.656250\\\\\n",
       "\t 76 & 1156 & C  & 15.210526\\\\\n",
       "\t 65 & 1082 & C  & 16.646154\\\\\n",
       "\\end{tabular}\n"
      ],
      "text/markdown": [
       "\n",
       "A tibble: 6 × 4\n",
       "\n",
       "| games_played &lt;dbl&gt; | total_points &lt;dbl&gt; | position &lt;chr&gt; | points_per_game &lt;dbl&gt; |\n",
       "|---|---|---|---|\n",
       "| 26 |  133 | PG |  5.115385 |\n",
       "| 82 |  954 | PG | 11.634146 |\n",
       "| 47 |  243 | PF |  5.170213 |\n",
       "| 32 |  213 | PF |  6.656250 |\n",
       "| 76 | 1156 | C  | 15.210526 |\n",
       "| 65 | 1082 | C  | 16.646154 |\n",
       "\n"
      ],
      "text/plain": [
       "  games_played total_points position points_per_game\n",
       "1 26            133         PG        5.115385      \n",
       "2 82            954         PG       11.634146      \n",
       "3 47            243         PF        5.170213      \n",
       "4 32            213         PF        6.656250      \n",
       "5 76           1156         C        15.210526      \n",
       "6 65           1082         C        16.646154      "
      ]
     },
     "metadata": {},
     "output_type": "display_data"
    }
   ],
   "source": [
    "colnames(nba_player_stats) <- make.names(colnames(nba_player_stats))\n",
    "\n",
    "nba_player_stats <- nba_player_stats |> \n",
    "    rename(games_played = Games.Played,\n",
    "           total_points = PTS,\n",
    "           position = Pos) |>\n",
    "    select(games_played, total_points, position) |>\n",
    "    na.omit() |>\n",
    "    mutate(points_per_game = total_points / games_played)\n",
    "    \n",
    "head(nba_player_stats)"
   ]
  },
  {
   "cell_type": "markdown",
   "id": "ee87f0e2-a43e-4b14-9ec3-ef8113c5eb98",
   "metadata": {},
   "source": [
    "### Methods"
   ]
  },
  {
   "cell_type": "markdown",
   "id": "a0fff385-4062-4ed8-a049-bdaa4ebef256",
   "metadata": {},
   "source": [
    "- write methods here"
   ]
  },
  {
   "cell_type": "markdown",
   "id": "793e7309-0769-46d3-8026-abd8e471d7bb",
   "metadata": {},
   "source": [
    "### References"
   ]
  },
  {
   "cell_type": "markdown",
   "id": "2b2549d1-eb78-4c3b-b1d3-1a456f3882b0",
   "metadata": {},
   "source": [
    "1. Camli, Mustafa Baris. “NBA Player Stats 2017-2018.” Kaggle, 4 Nov. 2018, https://www.kaggle.com/datasets/mcamli/nba17-18. \n",
    "\n",
    "2. “Data Study to Predict NBA Player Positions.” Data Science Blog, https://nycdatascience.com/blog/student-works/data-study-to-predict-nba-player-positions/. \n",
    "\n",
    "3. García, Franc, et al. “Differences in Physical Demands between Game Quarters and Playing Positions on Professional Basketball Players during Official Competition.” Journal of Sports Science &amp; Medicine, U.S. National Library of Medicine, 1 May 2020, https://www.ncbi.nlm.nih.gov/pmc/articles/PMC7196749/. \n",
    "\n",
    "3. Role Revolution: Towards a New Meaning of Positions in Basketball. https://www.researchgate.net/publication/321667468_Role_revolution_Towards_a_new_meaning_of_positions_in_basketball. "
   ]
  },
  {
   "cell_type": "code",
   "execution_count": null,
   "id": "a15c9f3d-f040-464c-9af6-41304ea7d1f4",
   "metadata": {},
   "outputs": [],
   "source": []
  },
  {
   "cell_type": "code",
   "execution_count": null,
   "id": "2ca496cd-c2e5-4dd4-9076-ed84d65b9608",
   "metadata": {},
   "outputs": [],
   "source": []
  }
 ],
 "metadata": {
  "kernelspec": {
   "display_name": "R",
   "language": "R",
   "name": "ir"
  },
  "language_info": {
   "codemirror_mode": "r",
   "file_extension": ".r",
   "mimetype": "text/x-r-source",
   "name": "R",
   "pygments_lexer": "r",
   "version": "4.1.3"
  }
 },
 "nbformat": 4,
 "nbformat_minor": 5
}
